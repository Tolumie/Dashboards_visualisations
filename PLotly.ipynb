{
 "cells": [
  {
   "cell_type": "code",
   "execution_count": 2,
   "id": "00374606",
   "metadata": {},
   "outputs": [],
   "source": [
    "%load_ext sql\n",
    "import csv, sqlite3\n",
    "\n",
    "con = sqlite3.connect(\"Car_price.db\")\n",
    "cur = con.cursor()\n",
    "%sql sqlite:///Car_price.db\n",
    "import pandas as pd\n",
    "df = pd.read_csv('car data.csv')"
   ]
  },
  {
   "cell_type": "code",
   "execution_count": 9,
   "id": "04a0cb70",
   "metadata": {},
   "outputs": [
    {
     "data": {
      "text/plain": [
       "100000"
      ]
     },
     "execution_count": 9,
     "metadata": {},
     "output_type": "execute_result"
    }
   ],
   "source": [
    "df.to_sql(\"CARZ\", con, if_exists='replace', index=False)#,method=\"multi\")"
   ]
  },
  {
   "cell_type": "code",
   "execution_count": 10,
   "id": "8350e4c5",
   "metadata": {},
   "outputs": [
    {
     "name": "stdout",
     "output_type": "stream",
     "text": [
      " * sqlite:///Car_price.db\n",
      "Done.\n"
     ]
    },
    {
     "data": {
      "text/html": [
       "<table>\n",
       "    <thead>\n",
       "        <tr>\n",
       "            <th>Car_Name</th>\n",
       "            <th>Year</th>\n",
       "            <th>Present_Price</th>\n",
       "            <th>Kms_Driven</th>\n",
       "            <th>Fuel_Type</th>\n",
       "            <th>Seller_Type</th>\n",
       "            <th>Transmission</th>\n",
       "            <th>Owner</th>\n",
       "            <th>Selling_Price</th>\n",
       "        </tr>\n",
       "    </thead>\n",
       "    <tbody>\n",
       "        <tr>\n",
       "            <td>Hero Passion X pro</td>\n",
       "            <td>2016</td>\n",
       "            <td>12417.55</td>\n",
       "            <td>33217</td>\n",
       "            <td>Petrol</td>\n",
       "            <td>Individual</td>\n",
       "            <td>Manual</td>\n",
       "            <td>0</td>\n",
       "            <td>11717.5</td>\n",
       "        </tr>\n",
       "        <tr>\n",
       "            <td>xcent</td>\n",
       "            <td>2017</td>\n",
       "            <td>10633.13</td>\n",
       "            <td>12905</td>\n",
       "            <td>Petrol</td>\n",
       "            <td>Dealer</td>\n",
       "            <td>Manual</td>\n",
       "            <td>0</td>\n",
       "            <td>9931.75</td>\n",
       "        </tr>\n",
       "        <tr>\n",
       "            <td>verna</td>\n",
       "            <td>2015</td>\n",
       "            <td>10881.4</td>\n",
       "            <td>62053</td>\n",
       "            <td>Diesel</td>\n",
       "            <td>Dealer</td>\n",
       "            <td>Manual</td>\n",
       "            <td>0</td>\n",
       "            <td>10180.25</td>\n",
       "        </tr>\n",
       "        <tr>\n",
       "            <td>ertiga</td>\n",
       "            <td>2016</td>\n",
       "            <td>11107.79</td>\n",
       "            <td>43897</td>\n",
       "            <td>Diesel</td>\n",
       "            <td>Dealer</td>\n",
       "            <td>Manual</td>\n",
       "            <td>0</td>\n",
       "            <td>10404.75</td>\n",
       "        </tr>\n",
       "        <tr>\n",
       "            <td>jazz</td>\n",
       "            <td>2016</td>\n",
       "            <td>10316.4</td>\n",
       "            <td>4108</td>\n",
       "            <td>Petrol</td>\n",
       "            <td>Dealer</td>\n",
       "            <td>Manual</td>\n",
       "            <td>0</td>\n",
       "            <td>9614.0</td>\n",
       "        </tr>\n",
       "    </tbody>\n",
       "</table>"
      ],
      "text/plain": [
       "[('Hero Passion X pro', 2016, 12417.55, 33217, 'Petrol', 'Individual', 'Manual', 0, 11717.5),\n",
       " ('xcent', 2017, 10633.13, 12905, 'Petrol', 'Dealer', 'Manual', 0, 9931.75),\n",
       " ('verna', 2015, 10881.4, 62053, 'Diesel', 'Dealer', 'Manual', 0, 10180.25),\n",
       " ('ertiga', 2016, 11107.79, 43897, 'Diesel', 'Dealer', 'Manual', 0, 10404.75),\n",
       " ('jazz', 2016, 10316.4, 4108, 'Petrol', 'Dealer', 'Manual', 0, 9614.0)]"
      ]
     },
     "execution_count": 10,
     "metadata": {},
     "output_type": "execute_result"
    }
   ],
   "source": [
    "%sql select *from CARZ limit 5"
   ]
  },
  {
   "cell_type": "code",
   "execution_count": 3,
   "id": "6ac67819",
   "metadata": {},
   "outputs": [],
   "source": [
    "cur = con.close()"
   ]
  },
  {
   "cell_type": "code",
   "execution_count": 1,
   "id": "eb880627",
   "metadata": {},
   "outputs": [],
   "source": [
    "# Import required libraries\n",
    "import pandas as pd\n",
    "import dash\n",
    "from dash import html\n",
    "from dash import dcc\n",
    "from dash.dependencies import Input, Output\n",
    "import plotly.express as px"
   ]
  },
  {
   "cell_type": "code",
   "execution_count": 2,
   "id": "17248bc9",
   "metadata": {
    "scrolled": true
   },
   "outputs": [
    {
     "data": {
      "text/plain": [
       "Launch Site\n",
       "CCAFS LC-40     26\n",
       "KSC LC-39A      13\n",
       "VAFB SLC-4E     10\n",
       "CCAFS SLC-40     7\n",
       "Name: count, dtype: int64"
      ]
     },
     "execution_count": 2,
     "metadata": {},
     "output_type": "execute_result"
    }
   ],
   "source": [
    "#Read data into datafame\n",
    "spacex_df = pd.read_csv(\"spacex_launch_dash.csv\")\n",
    "spacex_df['Launch Site'].value_counts()"
   ]
  },
  {
   "cell_type": "markdown",
   "id": "e6f8f0c6",
   "metadata": {},
   "source": [
    "In the above result, the data column launch site has a deprecated name input 'CCAFS  LC-40'. It was changed by Falcon9 with 'CCAFS SLC-40'.This means the two represents same launch site,so we merge them.\n",
    "Source :\"https://en.wikipedia.org/wiki/Cape_Canaveral_Space_Launch_Complex_40\""
   ]
  },
  {
   "cell_type": "code",
   "execution_count": 5,
   "id": "212fd05a",
   "metadata": {},
   "outputs": [],
   "source": [
    "# Lets rename the two variables\n",
    "spacex_df['Launch Site'].replace('CCAFS LC-40', 'CCAFS SLC-40',inplace = True)\n",
    "\n",
    "# Save dataframe spacex into a csv file\n",
    "#spacex.to_csv(\"spacex_launch_dash1.csv\", index = False)"
   ]
  },
  {
   "cell_type": "code",
   "execution_count": 4,
   "id": "3d845c64",
   "metadata": {},
   "outputs": [
    {
     "data": {
      "text/html": [
       "<div>\n",
       "<style scoped>\n",
       "    .dataframe tbody tr th:only-of-type {\n",
       "        vertical-align: middle;\n",
       "    }\n",
       "\n",
       "    .dataframe tbody tr th {\n",
       "        vertical-align: top;\n",
       "    }\n",
       "\n",
       "    .dataframe thead th {\n",
       "        text-align: right;\n",
       "    }\n",
       "</style>\n",
       "<table border=\"1\" class=\"dataframe\">\n",
       "  <thead>\n",
       "    <tr style=\"text-align: right;\">\n",
       "      <th></th>\n",
       "      <th>Launch Site</th>\n",
       "      <th>class</th>\n",
       "      <th>count</th>\n",
       "    </tr>\n",
       "  </thead>\n",
       "  <tbody>\n",
       "    <tr>\n",
       "      <th>0</th>\n",
       "      <td>CCAFS SLC-40</td>\n",
       "      <td>0</td>\n",
       "      <td>23</td>\n",
       "    </tr>\n",
       "    <tr>\n",
       "      <th>1</th>\n",
       "      <td>CCAFS SLC-40</td>\n",
       "      <td>1</td>\n",
       "      <td>10</td>\n",
       "    </tr>\n",
       "    <tr>\n",
       "      <th>2</th>\n",
       "      <td>KSC LC-39A</td>\n",
       "      <td>1</td>\n",
       "      <td>10</td>\n",
       "    </tr>\n",
       "    <tr>\n",
       "      <th>3</th>\n",
       "      <td>KSC LC-39A</td>\n",
       "      <td>0</td>\n",
       "      <td>3</td>\n",
       "    </tr>\n",
       "    <tr>\n",
       "      <th>4</th>\n",
       "      <td>VAFB SLC-4E</td>\n",
       "      <td>0</td>\n",
       "      <td>6</td>\n",
       "    </tr>\n",
       "    <tr>\n",
       "      <th>5</th>\n",
       "      <td>VAFB SLC-4E</td>\n",
       "      <td>1</td>\n",
       "      <td>4</td>\n",
       "    </tr>\n",
       "  </tbody>\n",
       "</table>\n",
       "</div>"
      ],
      "text/plain": [
       "    Launch Site  class  count\n",
       "0  CCAFS SLC-40      0     23\n",
       "1  CCAFS SLC-40      1     10\n",
       "2    KSC LC-39A      1     10\n",
       "3    KSC LC-39A      0      3\n",
       "4   VAFB SLC-4E      0      6\n",
       "5   VAFB SLC-4E      1      4"
      ]
     },
     "execution_count": 4,
     "metadata": {},
     "output_type": "execute_result"
    }
   ],
   "source": [
    "\n",
    "#new_df = df.groupby('Recession')['Automobile_Sales'].mean().reset_index()\n",
    "\n",
    "# Create the bar chart using seaborn\n",
    "import seaborn as sns\n",
    "values=spacex_df.groupby('Launch Site',as_index=False)['class'].value_counts()\n",
    "values"
   ]
  },
  {
   "cell_type": "code",
   "execution_count": 6,
   "id": "b421b227",
   "metadata": {},
   "outputs": [
    {
     "data": {
      "text/plain": [
       "Launch Site\n",
       "CCAFS SLC-40    33\n",
       "KSC LC-39A      13\n",
       "VAFB SLC-4E     10\n",
       "Name: count, dtype: int64"
      ]
     },
     "execution_count": 6,
     "metadata": {},
     "output_type": "execute_result"
    }
   ],
   "source": [
    "# Now let' s sns. Notice the two has being marged,\n",
    "\n",
    "spacex_df['Launch Site'].value_counts()"
   ]
  },
  {
   "cell_type": "code",
   "execution_count": 7,
   "id": "794ed28b",
   "metadata": {},
   "outputs": [
    {
     "data": {
      "text/html": [
       "\n",
       "        <iframe\n",
       "            width=\"100%\"\n",
       "            height=\"650\"\n",
       "            src=\"http://127.0.0.1:8050/\"\n",
       "            frameborder=\"0\"\n",
       "            allowfullscreen\n",
       "            \n",
       "        ></iframe>\n",
       "        "
      ],
      "text/plain": [
       "<IPython.lib.display.IFrame at 0x13eb72a5650>"
      ]
     },
     "metadata": {},
     "output_type": "display_data"
    }
   ],
   "source": [
    "# Import required libraries\n",
    "import pandas as pd\n",
    "import dash\n",
    "from dash import html\n",
    "from dash import dcc\n",
    "from dash.dependencies import Input, Output\n",
    "import plotly.express as px\n",
    "\n",
    "# Read the airline data into pandas dataframe\n",
    "#spacex_df = pd.read_csv(\"spacex_launch_dash.csv\")\n",
    "max_payload = spacex_df['Payload Mass (kg)'].max()\n",
    "min_payload = spacex_df['Payload Mass (kg)'].min()\n",
    "\n",
    "# Create a dash application\n",
    "app = dash.Dash(__name__)\n",
    "\n",
    "# Create an app layout\n",
    "app.layout = html.Div(children=[html.H1('SpaceX Launch Records Dashboard',\n",
    "                                        style={'textAlign': 'center', 'color': '#503D36',\n",
    "                                               'font-size': 40}),\n",
    "                                # TASK 1: Add a dropdown list to enable Launch Site selection\n",
    "                                # The default select value is for ALL sites\n",
    "                                dcc.Dropdown(id='site-dropdown',\n",
    "                                options=[\n",
    "                                    {'label': 'All Sites', 'value': 'All Sites'},\n",
    "                                    {'label': 'VAFB SLC-4E', 'value': 'VAFB SLC-4E'},\n",
    "                                    {'label': 'KSC LC-39A', 'value': 'KSC LC-39A'},\n",
    "                                    {'label': 'CCAFS SLC-40', 'value': 'CCAFS SLC-40'}\n",
    "                                ],\n",
    "                                placeholder='Select a Launch Site Here',\n",
    "                                value='All Sites',\n",
    "                                searchable=True\n",
    "                                ),\n",
    "                                html.Br(),\n",
    "\n",
    "                                # TASK 2: Add a pie chart to show the total successful launches count for all sites\n",
    "                                # If a specific launch site was selected, show the Success vs. Failed counts for the site\n",
    "                                html.Div(dcc.Graph(id='success-pie-chart')),\n",
    "                                html.Br(),\n",
    "\n",
    "                                html.P(\"Payload range (Kg):\"),\n",
    "                                # TASK 3: Add a slider to select payload range\n",
    "                                dcc.RangeSlider(id='payload-slider',\n",
    "                                min=0,\n",
    "                                max=10000,\n",
    "                                step=1000,\n",
    "                                marks={i: '{}'.format(i) for i in range(0, 10001, 1000)},\n",
    "                                value=[min_payload, max_payload]),\n",
    "\n",
    "                                # TASK 4: Add a scatter chart to show the correlation between payload and launch success\n",
    "                                html.Div(dcc.Graph(id='success-payload-scatter-chart')),\n",
    "                                ])\n",
    "\n",
    "# TASK 2:\n",
    "# Add a callback function for `site-dropdown` as input, `success-pie-chart` as output\n",
    "@app.callback( Output(component_id='success-pie-chart', component_property='figure'),\n",
    "               Input(component_id='site-dropdown', component_property='value'))\n",
    "def get_pie_chart(launch_site):\n",
    "    if launch_site == 'All Sites':\n",
    "        fig = px.pie(values=spacex_df.groupby('Launch Site')['class'].mean(), \n",
    "                     names=spacex_df.groupby('Launch Site')['Launch Site'].first(),\n",
    "                     title='Total Success Launches by Site')\n",
    "    else:\n",
    "        fig = px.pie(values=spacex_df[spacex_df['Launch Site']==str(launch_site)]['class'].value_counts(normalize=True), \n",
    "                     names=spacex_df['class'].unique(), \n",
    "                     title='Total Success Launches for Site {}'.format(launch_site))\n",
    "    return(fig)\n",
    "\n",
    "# TASK 4:\n",
    "# Add a callback function for `site-dropdown` and `payload-slider` as inputs, `success-payload-scatter-chart` as output\n",
    "@app.callback( Output(component_id='success-payload-scatter-chart', component_property='figure'),\n",
    "              [Input(component_id='site-dropdown', component_property='value'),\n",
    "               Input(component_id='payload-slider',component_property='value')])\n",
    "def get_payload_chart(launch_site, payload_mass):\n",
    "    if launch_site == 'All Sites':\n",
    "        fig = px.scatter(spacex_df[spacex_df['Payload Mass (kg)'].between(payload_mass[0], payload_mass[1])], \n",
    "                x=\"Payload Mass (kg)\",\n",
    "                y=\"class\",\n",
    "                color=\"Booster Version Category\",\n",
    "                hover_data=['Launch Site'],\n",
    "                title='Correlation Between Payload and Success for All Sites')\n",
    "    else:\n",
    "        df = spacex_df[spacex_df['Launch Site']==str(launch_site)]\n",
    "        fig = px.scatter(df[df['Payload Mass (kg)'].between(payload_mass[0], payload_mass[1])], \n",
    "                x=\"Payload Mass (kg)\",\n",
    "                y=\"class\",\n",
    "                color=\"Booster Version Category\",\n",
    "                hover_data=['Launch Site'],\n",
    "                title='Correlation Between Payload and Success for Site {}'.format(launch_site))\n",
    "    return(fig)\n",
    "\n",
    "\n",
    "# Run the app\n",
    "if __name__ == '__main__':\n",
    "    app.run_server()\n"
   ]
  },
  {
   "cell_type": "code",
   "execution_count": null,
   "id": "bb367567",
   "metadata": {},
   "outputs": [],
   "source": []
  }
 ],
 "metadata": {
  "kernelspec": {
   "display_name": "Python 3 (ipykernel)",
   "language": "python",
   "name": "python3"
  },
  "language_info": {
   "codemirror_mode": {
    "name": "ipython",
    "version": 3
   },
   "file_extension": ".py",
   "mimetype": "text/x-python",
   "name": "python",
   "nbconvert_exporter": "python",
   "pygments_lexer": "ipython3",
   "version": "3.11.5"
  }
 },
 "nbformat": 4,
 "nbformat_minor": 5
}
